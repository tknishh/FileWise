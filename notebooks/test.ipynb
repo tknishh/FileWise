{
 "cells": [
  {
   "cell_type": "code",
   "execution_count": 2,
   "metadata": {},
   "outputs": [
    {
     "ename": "UnicodeDecodeError",
     "evalue": "'charmap' codec can't decode byte 0x8d in position 1941: character maps to <undefined>",
     "output_type": "error",
     "traceback": [
      "\u001b[1;31m---------------------------------------------------------------------------\u001b[0m",
      "\u001b[1;31mUnicodeDecodeError\u001b[0m                        Traceback (most recent call last)",
      "Cell \u001b[1;32mIn[2], line 11\u001b[0m\n\u001b[0;32m      9\u001b[0m uploaded_file \u001b[39m=\u001b[39m \u001b[39minput\u001b[39m(\u001b[39m\"\u001b[39m\u001b[39mPlease upload the file: \u001b[39m\u001b[39m\"\u001b[39m)\n\u001b[0;32m     10\u001b[0m \u001b[39mwith\u001b[39;00m \u001b[39mopen\u001b[39m(uploaded_file, \u001b[39m\"\u001b[39m\u001b[39mr\u001b[39m\u001b[39m\"\u001b[39m) \u001b[39mas\u001b[39;00m f:\n\u001b[1;32m---> 11\u001b[0m     file_content \u001b[39m=\u001b[39m f\u001b[39m.\u001b[39;49mread()\n\u001b[0;32m     13\u001b[0m \u001b[39m# Initialize model \u001b[39;00m\n\u001b[0;32m     14\u001b[0m input_ids \u001b[39m=\u001b[39m tokenizer\u001b[39m.\u001b[39mencode(\u001b[39m\"\u001b[39m\u001b[39mThe uploaded file contains the following:\u001b[39m\u001b[39m\"\u001b[39m, return_tensors\u001b[39m=\u001b[39m\u001b[39m\"\u001b[39m\u001b[39mpt\u001b[39m\u001b[39m\"\u001b[39m)  \n",
      "File \u001b[1;32mc:\\Users\\Tedd\\AppData\\Local\\Programs\\Python\\Python39\\lib\\encodings\\cp1252.py:23\u001b[0m, in \u001b[0;36mIncrementalDecoder.decode\u001b[1;34m(self, input, final)\u001b[0m\n\u001b[0;32m     22\u001b[0m \u001b[39mdef\u001b[39;00m \u001b[39mdecode\u001b[39m(\u001b[39mself\u001b[39m, \u001b[39minput\u001b[39m, final\u001b[39m=\u001b[39m\u001b[39mFalse\u001b[39;00m):\n\u001b[1;32m---> 23\u001b[0m     \u001b[39mreturn\u001b[39;00m codecs\u001b[39m.\u001b[39;49mcharmap_decode(\u001b[39minput\u001b[39;49m,\u001b[39mself\u001b[39;49m\u001b[39m.\u001b[39;49merrors,decoding_table)[\u001b[39m0\u001b[39m]\n",
      "\u001b[1;31mUnicodeDecodeError\u001b[0m: 'charmap' codec can't decode byte 0x8d in position 1941: character maps to <undefined>"
     ]
    }
   ],
   "source": [
    "import io\n",
    "import os\n",
    "from transformers import AutoModelForCausalLM, AutoTokenizer\n",
    "\n",
    "tokenizer = AutoTokenizer.from_pretrained(\"microsoft/DialoGPT-medium\")\n",
    "model = AutoModelForCausalLM.from_pretrained(\"microsoft/DialoGPT-medium\")\n",
    "\n",
    "# Upload file from device\n",
    "uploaded_file = input(\"Please upload the file: \")\n",
    "with open(uploaded_file, \"r\") as f:\n",
    "    file_content = f.read()\n",
    "\n",
    "# Initialize model \n",
    "input_ids = tokenizer.encode(\"The uploaded file contains the following:\", return_tensors=\"pt\")  \n",
    "output = model.generate(input_ids, max_length=1000, do_sample=True, temperature=0.9)\n",
    "file_context = tokenizer.decode(output[0], skip_special_tokens=True)\n",
    "\n",
    "# Add file content to context  \n",
    "file_context += file_content\n",
    "\n",
    "# Generate summary  \n",
    "input_ids = tokenizer.encode(file_context, return_tensors=\"pt\")\n",
    "output = model.generate(\n",
    "    input_ids, max_length=200, min_length=30, do_sample=True, temperature=0.9\n",
    ")\n",
    "summary = tokenizer.decode(output[0], skip_special_tokens=True)\n",
    "\n",
    "print(f\"Here is a summary of the uploaded file: \\n{summary}\")"
   ]
  },
  {
   "cell_type": "code",
   "execution_count": 6,
   "metadata": {},
   "outputs": [
    {
     "ename": "ImportError",
     "evalue": "cannot import name 'LangChain' from 'langchain' (c:\\Users\\Tedd\\AppData\\Local\\Programs\\Python\\Python39\\lib\\site-packages\\langchain\\__init__.py)",
     "output_type": "error",
     "traceback": [
      "\u001b[1;31m---------------------------------------------------------------------------\u001b[0m",
      "\u001b[1;31mImportError\u001b[0m                               Traceback (most recent call last)",
      "Cell \u001b[1;32mIn[6], line 4\u001b[0m\n\u001b[0;32m      2\u001b[0m \u001b[39mimport\u001b[39;00m \u001b[39mos\u001b[39;00m\n\u001b[0;32m      3\u001b[0m \u001b[39mfrom\u001b[39;00m \u001b[39mtransformers\u001b[39;00m \u001b[39mimport\u001b[39;00m AutoModelForCausalLM, AutoTokenizer\n\u001b[1;32m----> 4\u001b[0m \u001b[39mfrom\u001b[39;00m \u001b[39mlangchain\u001b[39;00m \u001b[39mimport\u001b[39;00m LangChain\n\u001b[0;32m      6\u001b[0m \u001b[39m# Upload file \u001b[39;00m\n\u001b[0;32m      7\u001b[0m uploaded_file \u001b[39m=\u001b[39m \u001b[39minput\u001b[39m(\u001b[39m\"\u001b[39m\u001b[39mPlease upload the file: \u001b[39m\u001b[39m\"\u001b[39m)\n",
      "\u001b[1;31mImportError\u001b[0m: cannot import name 'LangChain' from 'langchain' (c:\\Users\\Tedd\\AppData\\Local\\Programs\\Python\\Python39\\lib\\site-packages\\langchain\\__init__.py)"
     ]
    }
   ],
   "source": [
    "import io \n",
    "import os\n",
    "from transformers import AutoModelForCausalLM, AutoTokenizer\n",
    "from langchain import LangChain\n",
    "\n",
    "# Upload file \n",
    "uploaded_file = input(\"Please upload the file: \")\n",
    "with open(uploaded_file, \"r\") as f:\n",
    "    file_content = f.read()\n",
    "\n",
    "# Initialize LangChain model    \n",
    "langchain = LangChain(\n",
    "    [\"gpt2\", \"bart\"], \n",
    "    [\"gpt2-large\", \"facebook/bart-large-cnn\"],\n",
    "    [\"english\", \"english\"]\n",
    ")\n",
    "\n",
    "# Add file context\n",
    "langchain.add_context(f\"The uploaded file contains the following:\\n{file_content}\")\n",
    "\n",
    "# Loop and answer questions\n",
    "while True:\n",
    "    question = input(\"Enter a question about the file: \")\n",
    "    if question == \"exit\":\n",
    "        break\n",
    "        \n",
    "    answer = langchain.generate(question)\n",
    "    print(f\"Answer: {answer}\")"
   ]
  },
  {
   "cell_type": "code",
   "execution_count": null,
   "metadata": {},
   "outputs": [],
   "source": []
  }
 ],
 "metadata": {
  "kernelspec": {
   "display_name": "Python 3",
   "language": "python",
   "name": "python3"
  },
  "language_info": {
   "codemirror_mode": {
    "name": "ipython",
    "version": 3
   },
   "file_extension": ".py",
   "mimetype": "text/x-python",
   "name": "python",
   "nbconvert_exporter": "python",
   "pygments_lexer": "ipython3",
   "version": "3.9.13"
  },
  "orig_nbformat": 4
 },
 "nbformat": 4,
 "nbformat_minor": 2
}
